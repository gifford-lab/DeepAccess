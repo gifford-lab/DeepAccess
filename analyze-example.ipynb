{
 "cells": [
  {
   "cell_type": "code",
   "execution_count": 46,
   "metadata": {},
   "outputs": [],
   "source": [
    "import pickle \n",
    "import pandas as pd\n",
    "import numpy as np\n",
    "import seaborn as sns\n",
    "import matplotlib.pyplot as plt\n",
    "from scipy.stats import norm"
   ]
  },
  {
   "cell_type": "code",
   "execution_count": 47,
   "metadata": {},
   "outputs": [],
   "source": [
    "seqs = [line.split('\\n')[1] for line in open('EnsembleNN/data/test.fa').read().split('>')[1:]]"
   ]
  },
  {
   "cell_type": "code",
   "execution_count": 48,
   "metadata": {},
   "outputs": [],
   "source": [
    "import sys\n",
    "sys.path.append(\"EnsembledNN/\")\n",
    "from EnsembleNN import ensemble_utils"
   ]
  },
  {
   "cell_type": "code",
   "execution_count": 49,
   "metadata": {},
   "outputs": [],
   "source": [
    "seqhot = ensemble_utils.fa_to_onehot('EnsembleNN/data/test.fa')"
   ]
  },
  {
   "cell_type": "code",
   "execution_count": 50,
   "metadata": {},
   "outputs": [],
   "source": [
    "kmer_size=10"
   ]
  },
  {
   "cell_type": "code",
   "execution_count": 51,
   "metadata": {},
   "outputs": [
    {
     "name": "stdout",
     "output_type": "stream",
     "text": [
      "21\n",
      "dict_keys(['TTATAATGTA', 'TATAATGTAT', 'CATACATTTA', 'ATACATTTAC', 'TACATTTACA', 'AATTTCATAT', 'TTATATGCAT', 'TATATGCATG', 'ATATGCATGC', 'TATGCATGCA', 'AAATATGAAC', 'AATATGAACA', 'ATATGAACAT', 'TATGAACATT', 'ATGAACATTT', 'TGAACATTTG', 'AATATTTGCA', 'ATATTTGCAT', 'TATTTGCATA', 'GTACACATAT', 'TACACATATT'])\n"
     ]
    }
   ],
   "source": [
    "with open('EnsembleNN/example/test_saliency_0vs1.pkl','rb') as f:\n",
    "    data = pickle.load(f)\n",
    "    mat = seqhot*data\n",
    "    windows = np.array([np.mean(mat[i,j:(j+kmer_size),:]) for i in range(len(seqs)) for j in range(len(seqs[0])-kmer_size+1)])\n",
    "    mu_window = np.mean(windows)\n",
    "    sigma_window = np.std(windows)\n",
    "    significant_seqs =  {}\n",
    "    significant_pvals = {}\n",
    "    nhypothesis = windows.shape[0]\n",
    "    for i in range(len(seqs)):\n",
    "        for j in range(len(seqs[0])-kmer_size+1):\n",
    "            score=np.mean(mat[i,j:(j+kmer_size)])\n",
    "            pval = norm.sf(score,\n",
    "                           loc=mu_window,scale=sigma_window)\n",
    "            if pval < 0.05/(nhypothesis):\n",
    "                try:\n",
    "                    key = significant_seqs[seqs[i][j:j+kmer_size].upper()]\n",
    "                    old_pval = significant_pvals[seqs[i][j:j+kmer_size].upper()]\n",
    "                    pval = min(pval,old_pval)\n",
    "                except KeyError:\n",
    "                    significant_seqs[seqs[i][j:j+kmer_size].upper()] = np.zeros((kmer_size,4))\n",
    "                significant_pvals[seqs[i][j:j+kmer_size].upper()] = pval\n",
    "                significant_seqs[seqs[i][j:j+kmer_size].upper()] += mat[i,j:j+kmer_size,:]\n",
    "    print(len(significant_pvals))\n",
    "    print(significant_seqs.keys())"
   ]
  },
  {
   "cell_type": "code",
   "execution_count": 52,
   "metadata": {},
   "outputs": [
    {
     "name": "stdout",
     "output_type": "stream",
     "text": [
      "1\n",
      "dict_keys(['GTCTCCTTTT'])\n"
     ]
    }
   ],
   "source": [
    "with open('EnsembleNN/example/test_saliency_1vs0.pkl','rb') as f:\n",
    "    data = pickle.load(f)\n",
    "    mat = seqhot*data\n",
    "    windows = np.array([np.mean(mat[i,j:(j+kmer_size),:]) for i in range(len(seqs)) for j in range(len(seqs[0])-kmer_size+1)])\n",
    "    mu_window = np.mean(windows)\n",
    "    sigma_window = np.std(windows)\n",
    "    significant_seqs =  {}\n",
    "    significant_pvals = {}\n",
    "    nhypothesis = windows.shape[0]\n",
    "    for i in range(len(seqs)):\n",
    "        for j in range(len(seqs[0])-kmer_size+1):\n",
    "            score=np.mean(mat[i,j:(j+kmer_size)])\n",
    "            pval = norm.sf(score,\n",
    "                           loc=mu_window,scale=sigma_window)\n",
    "            if pval < 0.05/(nhypothesis):\n",
    "                try:\n",
    "                    key = significant_seqs[seqs[i][j:j+kmer_size].upper()]\n",
    "                    old_pval = significant_pvals[seqs[i][j:j+kmer_size].upper()]\n",
    "                    pval = min(pval,old_pval)\n",
    "                except KeyError:\n",
    "                    significant_seqs[seqs[i][j:j+kmer_size].upper()] = np.zeros((kmer_size,4))\n",
    "                significant_pvals[seqs[i][j:j+kmer_size].upper()] = pval\n",
    "                significant_seqs[seqs[i][j:j+kmer_size].upper()] += mat[i,j:j+kmer_size,:]\n",
    "    print(len(significant_pvals))\n",
    "    print(significant_seqs.keys())"
   ]
  },
  {
   "cell_type": "code",
   "execution_count": 53,
   "metadata": {},
   "outputs": [
    {
     "name": "stdout",
     "output_type": "stream",
     "text": [
      "7\n",
      "dict_keys(['TTCTTTGTTC', 'TCTTTGTTCT', 'CTTTGTTCTG', 'TTTGTTCTGT', 'TTGTTCTGTT', 'ATTGCTCTGT', 'GCTCTGTAGT'])\n"
     ]
    }
   ],
   "source": [
    "with open('EnsembleNN/example/test_saliency_1vsNone.pkl','rb') as f:\n",
    "    data = pickle.load(f)\n",
    "    mat = seqhot*data\n",
    "    windows = np.array([np.mean(mat[i,j:(j+kmer_size),:]) for i in range(len(seqs)) for j in range(len(seqs[0])-kmer_size+1)])\n",
    "    mu_window = np.mean(windows)\n",
    "    sigma_window = np.std(windows)\n",
    "    significant_seqs =  {}\n",
    "    significant_pvals = {}\n",
    "    nhypothesis = windows.shape[0]\n",
    "    for i in range(len(seqs)):\n",
    "        for j in range(len(seqs[0])-kmer_size+1):\n",
    "            score=np.mean(mat[i,j:(j+kmer_size)])\n",
    "            pval = norm.sf(score,\n",
    "                           loc=mu_window,scale=sigma_window)\n",
    "            if pval < 0.05/(nhypothesis):\n",
    "                try:\n",
    "                    key = significant_seqs[seqs[i][j:j+kmer_size].upper()]\n",
    "                    old_pval = significant_pvals[seqs[i][j:j+kmer_size].upper()]\n",
    "                    pval = min(pval,old_pval)\n",
    "                except KeyError:\n",
    "                    significant_seqs[seqs[i][j:j+kmer_size].upper()] = np.zeros((kmer_size,4))\n",
    "                significant_pvals[seqs[i][j:j+kmer_size].upper()] = pval\n",
    "                significant_seqs[seqs[i][j:j+kmer_size].upper()] += mat[i,j:j+kmer_size,:]\n",
    "    print(len(significant_pvals))\n",
    "    print(significant_seqs.keys())"
   ]
  },
  {
   "cell_type": "code",
   "execution_count": 54,
   "metadata": {},
   "outputs": [
    {
     "name": "stdout",
     "output_type": "stream",
     "text": [
      "32\n",
      "dict_keys(['TTATAATGTA', 'TATAATGTAT', 'ATTATGTACA', 'TTATGTACAC', 'TATGTACACA', 'ATGTACACAC', 'ATATTTACAT', 'TATTTACATT', 'ATTTACATTT', 'TTTACATTTT', 'TGTAAGATTT', 'GTAAGATTTA', 'TAAGATTTAT', 'AAGATTTATA', 'AAATGCAAAT', 'TTATATGCAT', 'TATATGCATG', 'ATATGCATGC', 'TATGCATGCA', 'ATGCATGCAC', 'AAATGAAGAT', 'ATGAAGATTT', 'TGAAGATTTT', 'AATATGAACA', 'ATATGAACAT', 'TATGAACATT', 'ATGAACATTT', 'TGAACATTTG', 'GTACTTACAT', 'TACTTACATA', 'GTACACATAT', 'TACACATATT'])\n"
     ]
    }
   ],
   "source": [
    "with open('EnsembleNN/example/test_saliency_0vsNone.pkl','rb') as f:\n",
    "    data = pickle.load(f)\n",
    "    mat = seqhot*data\n",
    "    windows = np.array([np.mean(mat[i,j:(j+kmer_size),:]) for i in range(len(seqs)) for j in range(len(seqs[0])-kmer_size+1)])\n",
    "    mu_window = np.mean(windows)\n",
    "    sigma_window = np.std(windows)\n",
    "    significant_seqs =  {}\n",
    "    significant_pvals = {}\n",
    "    nhypothesis = windows.shape[0]\n",
    "    for i in range(len(seqs)):\n",
    "        for j in range(len(seqs[0])-kmer_size+1):\n",
    "            score=np.mean(mat[i,j:(j+kmer_size)])\n",
    "            pval = norm.sf(score,\n",
    "                           loc=mu_window,scale=sigma_window)\n",
    "            if pval < 0.05/(nhypothesis):\n",
    "                try:\n",
    "                    key = significant_seqs[seqs[i][j:j+kmer_size].upper()]\n",
    "                    old_pval = significant_pvals[seqs[i][j:j+kmer_size].upper()]\n",
    "                    pval = min(pval,old_pval)\n",
    "                except KeyError:\n",
    "                    significant_seqs[seqs[i][j:j+kmer_size].upper()] = np.zeros((kmer_size,4))\n",
    "                significant_pvals[seqs[i][j:j+kmer_size].upper()] = pval\n",
    "                significant_seqs[seqs[i][j:j+kmer_size].upper()] += mat[i,j:j+kmer_size,:]\n",
    "    print(len(significant_pvals))\n",
    "    print(significant_seqs.keys())"
   ]
  }
 ],
 "metadata": {
  "kernelspec": {
   "display_name": "Python 3",
   "language": "python",
   "name": "python3"
  },
  "language_info": {
   "codemirror_mode": {
    "name": "ipython",
    "version": 3
   },
   "file_extension": ".py",
   "mimetype": "text/x-python",
   "name": "python",
   "nbconvert_exporter": "python",
   "pygments_lexer": "ipython3",
   "version": "3.6.9"
  }
 },
 "nbformat": 4,
 "nbformat_minor": 2
}
